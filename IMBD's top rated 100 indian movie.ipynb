{
 "cells": [
  {
   "cell_type": "code",
   "execution_count": null,
   "id": "fe034bb5",
   "metadata": {},
   "outputs": [],
   "source": [
    "!pip install bs4\n",
    "!pip install requests\n",
    "from bs4 import BeautifulSoup\n",
    "import requests\n",
    "import pandas as pd"
   ]
  },
  {
   "cell_type": "code",
   "execution_count": null,
   "id": "a3526995",
   "metadata": {},
   "outputs": [],
   "source": [
    "page = requests.get(\"https://www.imdb.com/list/ls561664100/\")  ##to check for scraping data\n",
    "soup = BeautifulSoup(page.content)   ##get page content in HTML"
   ]
  },
  {
   "cell_type": "code",
   "execution_count": null,
   "id": "71f2b6ad",
   "metadata": {},
   "outputs": [],
   "source": [
    "## define a function to scrap movie title\n",
    "def get_movie_titles(soup):\n",
    "    selection_class=\"lister-item-header\"\n",
    "    movie_title_tags=soup.find_all('h3',{'class':selection_class})\n",
    "    movie_titles=[]\n",
    "\n",
    "    for tag in movie_title_tags:\n",
    "        title = tag.find('a').text\n",
    "        movie_titles.append(title)\n",
    "    return movie_titles\n",
    "get_movie_titles(soup)\n",
    "\n",
    "#scraping for rating\n",
    "rating = []      #empty list\n",
    "for i in soup.find_all('div', class_=\"ipl-rating-star small\"): ##for loop to scrap rating\n",
    "    rating.append(i.text.strip())\n",
    "rating\n",
    "\n",
    "#scraping for year of release\n",
    "year_of_release = []      #empty list\n",
    "for i in soup.find_all('span', class_=\"lister-item-year text-muted unbold\"):    ##for loop to scrap year of release\n",
    "    year_of_release.append(i.text)\n",
    "year_of_release\n",
    "\n",
    "## define scraped data in data frame\n",
    "df = pd.DataFrame({' movie name':get_movie_titles(soup),'rating':rating,\"year of release\":year_of_release})\n",
    "df"
   ]
  },
  {
   "cell_type": "code",
   "execution_count": null,
   "id": "2241fd9e",
   "metadata": {},
   "outputs": [],
   "source": []
  }
 ],
 "metadata": {
  "kernelspec": {
   "display_name": "Python 3 (ipykernel)",
   "language": "python",
   "name": "python3"
  },
  "language_info": {
   "codemirror_mode": {
    "name": "ipython",
    "version": 3
   },
   "file_extension": ".py",
   "mimetype": "text/x-python",
   "name": "python",
   "nbconvert_exporter": "python",
   "pygments_lexer": "ipython3",
   "version": "3.9.13"
  }
 },
 "nbformat": 4,
 "nbformat_minor": 5
}
