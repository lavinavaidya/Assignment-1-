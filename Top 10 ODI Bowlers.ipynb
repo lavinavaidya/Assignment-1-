{
 "cells": [
  {
   "cell_type": "code",
   "execution_count": null,
   "id": "d6ae0cf3",
   "metadata": {},
   "outputs": [],
   "source": [
    "#install all requirements\n",
    "!pip install bs4\n",
    "!pip install requests\n",
    "from bs4 import BeautifulSoup\n",
    "import requests\n",
    "import pandas as pd"
   ]
  },
  {
   "cell_type": "code",
   "execution_count": null,
   "id": "21882013",
   "metadata": {},
   "outputs": [],
   "source": [
    "#send request to webpage server to get sourse code\n",
    "page = requests.get('https://www.icc-cricket.com/rankings/mens/player-rankings/odi/bowling')\n",
    "soup = BeautifulSoup(page.content)"
   ]
  },
  {
   "cell_type": "code",
   "execution_count": null,
   "id": "0a950fd3",
   "metadata": {},
   "outputs": [],
   "source": [
    "# scraping first name\n",
    "first_name =soup.find('div', class_='rankings-block__banner--name-large')\n",
    "n1=first_name.text\n",
    "n1"
   ]
  },
  {
   "cell_type": "code",
   "execution_count": null,
   "id": "0511ace0",
   "metadata": {},
   "outputs": [],
   "source": [
    "# scraping first team\n",
    "first_team =soup.find('div', class_='rankings-block__banner--nationality')\n",
    "t1=first_team.text.strip()\n",
    "t1"
   ]
  },
  {
   "cell_type": "code",
   "execution_count": null,
   "id": "c5296608",
   "metadata": {},
   "outputs": [],
   "source": [
    "# scraping first rating\n",
    "first_rating =soup.find('div', class_='rankings-block__banner--rating')\n",
    "r1=first_rating.text\n",
    "r1# scraping multiple name\n",
    "name =[]  #empty list\n",
    "for i in soup.find_all('td', class_='table-body__cell rankings-table__name name'):\n",
    "    name.append(i.text.strip())\n",
    "n= name[0:9]\n",
    "n"
   ]
  },
  {
   "cell_type": "code",
   "execution_count": null,
   "id": "ecedd1c6",
   "metadata": {},
   "outputs": [],
   "source": [
    "n.insert(0,n1)\n",
    "n"
   ]
  },
  {
   "cell_type": "code",
   "execution_count": null,
   "id": "579974d7",
   "metadata": {},
   "outputs": [],
   "source": [
    "# scraping multiple team\n",
    "team =[]   #empty list\n",
    "for i in soup.find_all('span', class_='table-body__logo-text'):\n",
    "    team.append(i.text)\n",
    "t=team[0:9]\n",
    "t"
   ]
  },
  {
   "cell_type": "code",
   "execution_count": null,
   "id": "62e99341",
   "metadata": {},
   "outputs": [],
   "source": [
    "t.insert(0,t1)\n",
    "t"
   ]
  },
  {
   "cell_type": "code",
   "execution_count": null,
   "id": "9e49f1bd",
   "metadata": {},
   "outputs": [],
   "source": [
    "# scraping multiple rating\n",
    "rating =[]    #empty list\n",
    "for i in soup.find_all('td', class_='table-body__cell rating'):\n",
    "    rating.append(i.text)\n",
    "r=rating[0:9]\n",
    "r"
   ]
  },
  {
   "cell_type": "code",
   "execution_count": null,
   "id": "fe46cb8a",
   "metadata": {},
   "outputs": [],
   "source": [
    "r.insert(0,r1)\n",
    "r"
   ]
  },
  {
   "cell_type": "code",
   "execution_count": null,
   "id": "c476d879",
   "metadata": {},
   "outputs": [],
   "source": [
    "df=pd.DataFrame({\"Name of Bowler\":n,\"Team\":t,\"Rating\":r})\n",
    "df"
   ]
  }
 ],
 "metadata": {
  "kernelspec": {
   "display_name": "Python 3 (ipykernel)",
   "language": "python",
   "name": "python3"
  },
  "language_info": {
   "codemirror_mode": {
    "name": "ipython",
    "version": 3
   },
   "file_extension": ".py",
   "mimetype": "text/x-python",
   "name": "python",
   "nbconvert_exporter": "python",
   "pygments_lexer": "ipython3",
   "version": "3.9.13"
  }
 },
 "nbformat": 4,
 "nbformat_minor": 5
}
