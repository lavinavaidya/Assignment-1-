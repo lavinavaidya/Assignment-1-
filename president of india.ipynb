{
 "cells": [
  {
   "cell_type": "code",
   "execution_count": null,
   "id": "6be10556",
   "metadata": {},
   "outputs": [],
   "source": [
    "## installing and importing libraries\n",
    "!pip install bs4\n",
    "!pip install requests\n",
    "from bs4 import BeautifulSoup\n",
    "import requests\n",
    "import pandas as pd"
   ]
  },
  {
   "cell_type": "code",
   "execution_count": null,
   "id": "0b549801",
   "metadata": {},
   "outputs": [],
   "source": [
    "# send get request to webpage server to get source code\n",
    "page = requests.get(\"https://presidentofindia.nic.in/former-presidents.htm\") #\n",
    "# get page content\n",
    "soup = BeautifulSoup(page.content)"
   ]
  },
  {
   "cell_type": "code",
   "execution_count": null,
   "id": "d816855f",
   "metadata": {},
   "outputs": [],
   "source": [
    "# sraping data\n",
    "president_name= []\n",
    "for i in soup.find_all('div', class_='presidentListing'):\n",
    "    president_name.append(i.text)\n",
    "print('president name',*president_name, sep=' ')\n",
    "    \n",
    "president_name\n"
   ]
  }
 ],
 "metadata": {
  "kernelspec": {
   "display_name": "Python 3 (ipykernel)",
   "language": "python",
   "name": "python3"
  },
  "language_info": {
   "codemirror_mode": {
    "name": "ipython",
    "version": 3
   },
   "file_extension": ".py",
   "mimetype": "text/x-python",
   "name": "python",
   "nbconvert_exporter": "python",
   "pygments_lexer": "ipython3",
   "version": "3.9.13"
  }
 },
 "nbformat": 4,
 "nbformat_minor": 5
}
