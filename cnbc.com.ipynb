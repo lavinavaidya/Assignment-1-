{
 "cells": [
  {
   "cell_type": "code",
   "execution_count": null,
   "id": "1863bc4f",
   "metadata": {},
   "outputs": [],
   "source": [
    "#install all the requirement\n",
    "!pip install bs4\n",
    "!pip install requests\n",
    "from bs4 import BeautifulSoup\n",
    "import requests\n",
    "import re"
   ]
  },
  {
   "cell_type": "code",
   "execution_count": null,
   "id": "d35f7c47",
   "metadata": {},
   "outputs": [],
   "source": [
    "#get the HTML\n",
    "page = requests.get('https://www.cnbc.com/world/?region=world')\n",
    "soup = BeautifulSoup(page.content)"
   ]
  },
  {
   "cell_type": "code",
   "execution_count": null,
   "id": "2cea9899",
   "metadata": {},
   "outputs": [],
   "source": [
    "#scraping headlines\n",
    "Headline = []\n",
    "for i in soup.find_all('a',class_='LatestNews-headline'):\n",
    "    Headline.append(i.text)\n",
    "Headline\n",
    "\n",
    "#scraping time\n",
    "Time = []\n",
    "for i in soup.find_all('time',class_='LatestNews-timestamp'):\n",
    "    Time.append(i.text)\n",
    "Time\n",
    "\n",
    "# scraping the link\n",
    "for link in soup.find_all('a',attrs={'href': re.compile(\"^https://\")}):\n",
    "    print(link.get('href'))"
   ]
  }
 ],
 "metadata": {
  "kernelspec": {
   "display_name": "Python 3 (ipykernel)",
   "language": "python",
   "name": "python3"
  },
  "language_info": {
   "codemirror_mode": {
    "name": "ipython",
    "version": 3
   },
   "file_extension": ".py",
   "mimetype": "text/x-python",
   "name": "python",
   "nbconvert_exporter": "python",
   "pygments_lexer": "ipython3",
   "version": "3.9.13"
  }
 },
 "nbformat": 4,
 "nbformat_minor": 5
}
