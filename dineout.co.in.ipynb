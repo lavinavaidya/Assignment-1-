{
 "cells": [
  {
   "cell_type": "code",
   "execution_count": null,
   "id": "4c94818b",
   "metadata": {},
   "outputs": [],
   "source": [
    "!pip install bs4\n",
    "!pip install requests\n",
    "from bs4 import BeautifulSoup\n",
    "import requests\n",
    "import pandas as pd"
   ]
  },
  {
   "cell_type": "code",
   "execution_count": null,
   "id": "166f6e34",
   "metadata": {},
   "outputs": [],
   "source": [
    "page = requests.get(\"https://www.dineout.co.in/delhi-restaurants\")\n",
    "soup = BeautifulSoup(page.content)"
   ]
  },
  {
   "cell_type": "code",
   "execution_count": null,
   "id": "b6d8979f",
   "metadata": {},
   "outputs": [],
   "source": [
    "## scraping multiple titles\n",
    "tittle = []  #empty list\n",
    "for i in soup.find_all('a', class_='restnt-name ellipsis'):\n",
    "    tittle.append(i.text)\n",
    "\n",
    "## scraping multiple cuisine\n",
    "cuisine = []  #empty list\n",
    "for i in soup.find_all('span', class_='double-line-ellipsis'):\n",
    "    cuisine.append(i.text)\n",
    "\n",
    "    ## scraping multiple location\n",
    "location = []  #empty list\n",
    "for i in soup.find_all('div', class_='restnt-loc ellipsis'):\n",
    "    location.append(i.text)\n",
    "    \n",
    "## scraping multiple rating\n",
    "rating = []  #empty list\n",
    "for i in soup.find_all('div', class_='restnt-rating rating-4'):\n",
    "    rating.append(i.text)\n",
    "    \n",
    "## scraping image\n",
    "image = []  #empty list\n",
    "for i in soup.find_all('img', class_='no-img'):\n",
    "    image.append(i.get('data-src'))\n",
    "    \n",
    "# making dataframe\n",
    "df =pd.DataFrame({'Name of restaurant':tittle,'Cuisine':cuisine,'Location':location,'Image':image})\n",
    "df"
   ]
  }
 ],
 "metadata": {
  "kernelspec": {
   "display_name": "Python 3 (ipykernel)",
   "language": "python",
   "name": "python3"
  },
  "language_info": {
   "codemirror_mode": {
    "name": "ipython",
    "version": 3
   },
   "file_extension": ".py",
   "mimetype": "text/x-python",
   "name": "python",
   "nbconvert_exporter": "python",
   "pygments_lexer": "ipython3",
   "version": "3.9.13"
  }
 },
 "nbformat": 4,
 "nbformat_minor": 5
}
