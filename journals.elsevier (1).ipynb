{
 "cells": [
  {
   "cell_type": "code",
   "execution_count": null,
   "id": "d6ae0cf3",
   "metadata": {},
   "outputs": [],
   "source": [
    "#install all requirements\n",
    "!pip install bs4\n",
    "!pip install requests\n",
    "from bs4 import BeautifulSoup\n",
    "import requests\n",
    "import pandas as pd\n",
    "import re"
   ]
  },
  {
   "cell_type": "code",
   "execution_count": null,
   "id": "21882013",
   "metadata": {},
   "outputs": [],
   "source": [
    "#send request to webpage server to get sourse code\n",
    "page = requests.get('https://journals.elsevier.com/artificial-intelligence/most-downloaded-articles')\n",
    "soup = BeautifulSoup(page.content)\n",
    "\n"
   ]
  },
  {
   "cell_type": "code",
   "execution_count": null,
   "id": "c5296608",
   "metadata": {},
   "outputs": [],
   "source": [
    "# scraping multiple Paper_Title\n",
    "Paper_Title =[]  #empty list\n",
    "for i in soup.find_all('h2', class_='sc-1qrq3sd-1 gRGSUS sc-1nmom32-0 sc-1nmom32-1 btcbYu goSKRg'):\n",
    "    Paper_Title.append(i.text.strip())\n",
    "Paper_Title"
   ]
  },
  {
   "cell_type": "code",
   "execution_count": null,
   "id": "579974d7",
   "metadata": {},
   "outputs": [],
   "source": [
    "# scraping multiple Authors\n",
    "Authors =[]   #empty list\n",
    "for i in soup.find_all('span', class_='sc-1w3fpd7-0 dnCnAO'):\n",
    "    Authors.append(i.text)\n",
    "Authors"
   ]
  },
  {
   "cell_type": "code",
   "execution_count": null,
   "id": "9e49f1bd",
   "metadata": {},
   "outputs": [],
   "source": [
    "# scraping multiple Published_Date\n",
    "Published_Date =[]    #empty list\n",
    "for i in soup.find_all('span', class_='sc-1thf9ly-2 dvggWt'):\n",
    "    Published_Date.append(i.text)\n",
    "Published_Date"
   ]
  },
  {
   "cell_type": "code",
   "execution_count": null,
   "id": "fe46cb8a",
   "metadata": {},
   "outputs": [],
   "source": [
    "# scraping the link\n",
    "for link in soup.find_all('a',attrs={'href': re.compile(\"^https://\")}):\n",
    "    paper_URL = link.get('href')\n",
    "    print( paper_URL)"
   ]
  },
  {
   "cell_type": "code",
   "execution_count": null,
   "id": "2069f4c8",
   "metadata": {},
   "outputs": [],
   "source": []
  }
 ],
 "metadata": {
  "kernelspec": {
   "display_name": "Python 3 (ipykernel)",
   "language": "python",
   "name": "python3"
  },
  "language_info": {
   "codemirror_mode": {
    "name": "ipython",
    "version": 3
   },
   "file_extension": ".py",
   "mimetype": "text/x-python",
   "name": "python",
   "nbconvert_exporter": "python",
   "pygments_lexer": "ipython3",
   "version": "3.9.13"
  }
 },
 "nbformat": 4,
 "nbformat_minor": 5
}
