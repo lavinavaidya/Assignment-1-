{
 "cells": [
  {
   "cell_type": "code",
   "execution_count": null,
   "id": "d6ae0cf3",
   "metadata": {},
   "outputs": [],
   "source": [
    "#install all requirements\n",
    "!pip install bs4\n",
    "!pip install requests\n",
    "from bs4 import BeautifulSoup\n",
    "import requests\n",
    "import pandas as pd\n",
    "import re"
   ]
  },
  {
   "cell_type": "code",
   "execution_count": null,
   "id": "21882013",
   "metadata": {},
   "outputs": [],
   "source": [
    "#send request to webpage server to get sourse code\n",
    "page = requests.get('https://journals.elsevier.com/artificial-intelligence/most-downloaded-articles')\n",
    "soup = BeautifulSoup(page.content)\n",
    "page\n"
   ]
  },
  {
   "cell_type": "code",
   "execution_count": null,
   "id": "c5296608",
   "metadata": {},
   "outputs": [],
   "source": [
    "# scraping multiple Paper_Title\n",
    "Paper_Title =[]  #empty list\n",
    "for i in soup.find_all('h2', class_='sc-1qrq3sd-1 gRGSUS sc-1nmom32-0 sc-1nmom32-1 btcbYu goSKRg'):\n",
    "    Paper_Title.append(i.text.strip())\n",
    "Paper_Title"
   ]
  },
  {
   "cell_type": "code",
   "execution_count": null,
   "id": "579974d7",
   "metadata": {},
   "outputs": [],
   "source": [
    "# scraping multiple Authors\n",
    "Authors =[]   #empty list\n",
    "for i in soup.find_all('span', class_='sc-1w3fpd7-0 dnCnAO'):\n",
    "    Authors.append(i.text)\n",
    "Authors"
   ]
  },
  {
   "cell_type": "code",
   "execution_count": null,
   "id": "9e49f1bd",
   "metadata": {},
   "outputs": [],
   "source": [
    "# scraping multiple Published_Date\n",
    "Published_Date =[]    #empty list\n",
    "for i in soup.find_all('span', class_='sc-1thf9ly-2 dvggWt'):\n",
    "    Published_Date.append(i.text)\n",
    "Published_Date"
   ]
  },
  {
   "cell_type": "code",
   "execution_count": 19,
   "id": "fe46cb8a",
   "metadata": {},
   "outputs": [
    {
     "name": "stdout",
     "output_type": "stream",
     "text": [
      "https://account.elsevier.com/auth\n",
      "https://elsevier.com/about\n",
      "https://www.elsevier.com/connect\n",
      "https://www.elsevier.com/about/careers\n",
      "https://elsevier.com/about\n",
      "https://www.elsevier.com/connect\n",
      "https://www.elsevier.com/about/careers\n",
      "https://www.elsevier.com/rd-solutions\n",
      "https://www.elsevier.com/clinical-solutions\n",
      "https://www.elsevier.com/research-platforms\n",
      "https://www.elsevier.com/research-intelligence\n",
      "https://www.elsevier.com/education\n",
      "https://www.elsevier.com/solutions\n",
      "https://www.elsevier.com/rd-solutions\n",
      "https://www.elsevier.com/clinical-solutions\n",
      "https://www.elsevier.com/research-platforms\n",
      "https://www.elsevier.com/research-intelligence\n",
      "https://www.elsevier.com/education\n",
      "https://www.elsevier.com/solutions\n",
      "https://www.elsevier.com/authors\n",
      "https://www.elsevier.com/editors\n",
      "https://www.elsevier.com/reviewers\n",
      "https://www.elsevier.com/librarians\n",
      "https://www.elsevier.com/strategic-partners\n",
      "https://www.elsevier.com/open-access\n",
      "https://www.elsevier.com/societies\n",
      "https://www.elsevier.com/authors\n",
      "https://www.elsevier.com/editors\n",
      "https://www.elsevier.com/reviewers\n",
      "https://www.elsevier.com/librarians\n",
      "https://www.elsevier.com/strategic-partners\n",
      "https://www.elsevier.com/open-access\n",
      "https://www.elsevier.com/societies\n",
      "https://www.elsevier.com/books-and-journals\n",
      "https://webshop.elsevier.com/?utm_source=ecom&utm_medium=top&utm_campaign=webshop\n",
      "https://www.elsevier.com/books-and-journals\n",
      "https://webshop.elsevier.com/?utm_source=ecom&utm_medium=top&utm_campaign=webshop\n",
      "https://global-checkout.elsevier.com\n",
      "https://account.elsevier.com/auth\n",
      "https://www.sciencedirect.com/science/journal/00043702\n",
      "https://www.editorialmanager.com/artint/default.aspx\n",
      "https://www.elsevier.com/\n",
      "https://www.elsevier.com/search-results?labels=journals\n",
      "https://www.sciencedirect.com/science/journal/00043702\n",
      "https://www.editorialmanager.com/artint/default.aspx\n",
      "https://www.sciencedirect.com/science/journal/00043702\n",
      "https://www.elsevier.com/journals/artificial-intelligence/0004-3702/guide-for-authors\n",
      "https://www.editorialmanager.com/artint/default.aspx\n",
      "https://authors.elsevier.com/tracking/landingpage/selection.do\n",
      "https://www.elsevier.com/journals/artificial-intelligence/0004-3702/subscribe?subscriptiontype=institutional\n",
      "https://www.sciencedirect.com/science/article/pii/S0004370221000862\n",
      "https://www.sciencedirect.com/science/article/pii/S0004370221000722\n",
      "https://www.sciencedirect.com/science/article/pii/S0004370215000910\n",
      "https://www.sciencedirect.com/science/article/pii/S0004370298000551\n",
      "https://www.sciencedirect.com/science/article/pii/S0004370216300790\n",
      "https://www.sciencedirect.com/science/article/pii/S0004370218305988\n",
      "https://www.sciencedirect.com/science/article/pii/S0004370220301855\n",
      "https://www.sciencedirect.com/science/article/pii/S0004370214001386\n",
      "https://www.sciencedirect.com/science/article/pii/S0004370299000521\n",
      "https://www.sciencedirect.com/science/article/pii/S0004370219300116\n",
      "https://www.sciencedirect.com/science/article/pii/S0004370220301533\n",
      "https://www.sciencedirect.com/science/article/pii/S0004370207000793\n",
      "https://www.sciencedirect.com/science/article/pii/S0004370216300285\n",
      "https://www.sciencedirect.com/science/article/pii/S0004370220301958\n",
      "https://www.sciencedirect.com/science/article/pii/S0004370297000635\n",
      "https://www.sciencedirect.com/science/article/pii/S0004370221000515\n",
      "https://www.sciencedirect.com/science/article/pii/S0004370221000539\n",
      "https://www.sciencedirect.com/science/article/pii/S0004370221000096\n",
      "https://www.sciencedirect.com/science/article/pii/S0004370216300868\n",
      "https://www.sciencedirect.com/science/article/pii/S0004370221000588\n",
      "https://www.sciencedirect.com/science/article/pii/S0004370221000102\n",
      "https://www.sciencedirect.com/science/article/pii/S0004370213001082\n",
      "https://www.sciencedirect.com/science/article/pii/S000437029700043X\n",
      "https://www.sciencedirect.com/science/article/pii/S0004370221000734\n",
      "https://www.sciencedirect.com/science/article/pii/S0004370209001398\n",
      "https://www.sciencedirect.com/science/journal/00043702\n",
      "https://www.sciencedirect.com/user/alerts\n",
      "https://www.sciencedirect.com/user/register?utm_campaign=sd_recommender_ELSJLS&utm_channel=elseco&dgcid=sd_recommender_ELSJLS\n",
      "https://www.editorialmanager.com/artint/default.aspx\n",
      "https://www.editorialmanager.com/artint/default.aspx\n",
      "https://researcheracademy.elsevier.com\n",
      "https://www.elsevier.com/about/policies/copyright/permissions\n",
      "https://webshop.elsevier.com\n",
      "https://service.elsevier.com/app/home/supporthub/publishing/#authors\n",
      "https://authors.elsevier.com/tracking/landingpage/selection.do\n",
      "https://www.elsevier.com/librarians\n",
      "https://www.elsevier.com/journals/artificial-intelligence/0004-3702/subscribe?subscriptiontype=institutional\n",
      "https://www.elsevier.com/editors/guest-editors\n",
      "https://service.elsevier.com/app/home/supporthub/publishing/#editors\n",
      "https://www.elsevier.com/reviewers/how-to-review\n",
      "https://www.editorialmanager.com/artint/default.aspx\n",
      "https://www.elsevier.com/reviewers/becoming-a-reviewer-how-and-why#recognizing\n",
      "https://service.elsevier.com/app/home/supporthub/publishing/#reviewers\n",
      "https://www.elsevier.com\n",
      "https://www.relx.com/\n"
     ]
    }
   ],
   "source": [
    "# scraping the link\n",
    "for link in soup.find_all('a',attrs={'href': re.compile(\"^https://\")}):\n",
    "    paper_URL = link.get('href')\n",
    "    print( paper_URL)"
   ]
  },
  {
   "cell_type": "code",
   "execution_count": null,
   "id": "5464a273",
   "metadata": {},
   "outputs": [],
   "source": [
    "print(len(Paper_Title),len(Authors),len(Published_Date),len(paper_URL))"
   ]
  },
  {
   "cell_type": "code",
   "execution_count": null,
   "id": "2069f4c8",
   "metadata": {},
   "outputs": [],
   "source": []
  }
 ],
 "metadata": {
  "kernelspec": {
   "display_name": "Python 3 (ipykernel)",
   "language": "python",
   "name": "python3"
  },
  "language_info": {
   "codemirror_mode": {
    "name": "ipython",
    "version": 3
   },
   "file_extension": ".py",
   "mimetype": "text/x-python",
   "name": "python",
   "nbconvert_exporter": "python",
   "pygments_lexer": "ipython3",
   "version": "3.9.13"
  }
 },
 "nbformat": 4,
 "nbformat_minor": 5
}
