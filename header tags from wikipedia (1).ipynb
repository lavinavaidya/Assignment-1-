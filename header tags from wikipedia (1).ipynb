{
 "cells": [
  {
   "cell_type": "code",
   "execution_count": null,
   "id": "3255dc65",
   "metadata": {},
   "outputs": [],
   "source": [
    "#install all requirement\n",
    "!pip install bs4\n",
    "!pip install requests\n",
    "from bs4 import BeautifulSoup\n",
    "import requests\n"
   ]
  },
  {
   "cell_type": "code",
   "execution_count": null,
   "id": "09d304ff",
   "metadata": {},
   "outputs": [],
   "source": [
    "#send get request to webpage server to get source code\n",
    "page = requests.get('https://en.wikipedia.org/wiki/Main_Page')\n",
    "#page content\n",
    "soup = BeautifulSoup(page.content)\n",
    "#scraping header tags\n",
    "titles =[]  #empty list\n",
    "for i in soup.find_all():\n",
    "    titles.append(i.text)\n",
    "\n",
    "titles\n",
    "print('List all the header tags :', *titles, sep='\\n\\n')"
   ]
  },
  {
   "cell_type": "code",
   "execution_count": null,
   "id": "dc4b47e6",
   "metadata": {},
   "outputs": [],
   "source": []
  }
 ],
 "metadata": {
  "kernelspec": {
   "display_name": "Python 3 (ipykernel)",
   "language": "python",
   "name": "python3"
  },
  "language_info": {
   "codemirror_mode": {
    "name": "ipython",
    "version": 3
   },
   "file_extension": ".py",
   "mimetype": "text/x-python",
   "name": "python",
   "nbconvert_exporter": "python",
   "pygments_lexer": "ipython3",
   "version": "3.9.13"
  }
 },
 "nbformat": 4,
 "nbformat_minor": 5
}
