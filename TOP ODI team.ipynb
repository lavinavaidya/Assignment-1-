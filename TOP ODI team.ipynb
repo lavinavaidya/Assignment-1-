{
 "cells": [
  {
   "cell_type": "code",
   "execution_count": null,
   "id": "91933687",
   "metadata": {},
   "outputs": [],
   "source": [
    "#install all requirements\n",
    "!pip install bs4\n",
    "!pip install requests\n",
    "from bs4 import BeautifulSoup\n",
    "import requests\n",
    "import pandas as pd"
   ]
  },
  {
   "cell_type": "code",
   "execution_count": null,
   "id": "997b321c",
   "metadata": {},
   "outputs": [],
   "source": [
    "#send request to webpage server to get sourse code\n",
    "page = requests.get('https://www.icc-cricket.com/rankings/mens/team-rankings/odi')\n",
    "soup = BeautifulSoup(page.content)"
   ]
  },
  {
   "cell_type": "code",
   "execution_count": null,
   "id": "4fca3857",
   "metadata": {},
   "outputs": [],
   "source": [
    "# scraping first team\n",
    "first_team =soup.find('span', class_='u-hide-phablet')\n",
    "t1=first_team.text\n",
    "t1"
   ]
  },
  {
   "cell_type": "code",
   "execution_count": null,
   "id": "f14fe394",
   "metadata": {},
   "outputs": [],
   "source": [
    "# scraping first match\n",
    "first_match =soup.find('td', class_='rankings-block__banner--matches')\n",
    "m1=first_match.text\n",
    "m1"
   ]
  },
  {
   "cell_type": "code",
   "execution_count": null,
   "id": "969bf3f4",
   "metadata": {},
   "outputs": [],
   "source": [
    "# scraping first points\n",
    "first_points =soup.find('td', class_='rankings-block__banner--points')\n",
    "p1=first_points.text\n",
    "p1"
   ]
  },
  {
   "cell_type": "code",
   "execution_count": null,
   "id": "767f1aa3",
   "metadata": {},
   "outputs": [],
   "source": [
    "# scraping first rating\n",
    "first_rating =soup.find('td', class_='rankings-block__banner--rating u-text-right')\n",
    "r1=first_rating.text.strip()\n",
    "r1"
   ]
  },
  {
   "cell_type": "code",
   "execution_count": null,
   "id": "d98602c3",
   "metadata": {},
   "outputs": [],
   "source": [
    "# scraping multiple team\n",
    "team =[]   #empty list\n",
    "for i in soup.find_all('span', class_='u-hide-phablet'):\n",
    "    team.append(i.text)\n",
    "t=team[0:10]\n",
    "\n",
    "t"
   ]
  },
  {
   "cell_type": "code",
   "execution_count": null,
   "id": "f0cbf370",
   "metadata": {},
   "outputs": [],
   "source": [
    "# scraping multiple matches\n",
    "name =[]  #empty list\n",
    "for i in soup.find_all('td', class_='table-body__cell u-center-text'):\n",
    "    name.append(i.text.strip())\n",
    "m2= name[0:38:2]\n",
    "m2.insert(0,m1)\n",
    "m=m2[0:10]\n",
    "m"
   ]
  },
  {
   "cell_type": "code",
   "execution_count": null,
   "id": "73855a9c",
   "metadata": {},
   "outputs": [],
   "source": [
    "# scraping multiple points\n",
    "p2=name[1:38:2]\n",
    "p2.insert(0,p1)\n",
    "p=p2[0:10]\n",
    "p"
   ]
  },
  {
   "cell_type": "code",
   "execution_count": null,
   "id": "e9db8210",
   "metadata": {},
   "outputs": [],
   "source": [
    "# scraping multiple rating\n",
    "rating =[]    #empty list\n",
    "for i in soup.find_all('td', class_='table-body__cell u-text-right rating'):\n",
    "    rating.append(i.text)\n",
    "r=rating[0:9]\n",
    "r.insert(0,r1)\n",
    "r"
   ]
  },
  {
   "cell_type": "code",
   "execution_count": null,
   "id": "ad2a6ea4",
   "metadata": {},
   "outputs": [],
   "source": [
    "print(len(t),len(m),len(p),len(r))"
   ]
  },
  {
   "cell_type": "code",
   "execution_count": null,
   "id": "aacbab93",
   "metadata": {},
   "outputs": [],
   "source": [
    "df=pd.DataFrame({\"Name of team\":t,\"Matches\":m,\"Points\":p,\"Rating\":r})\n",
    "df"
   ]
  },
  {
   "cell_type": "code",
   "execution_count": null,
   "id": "629f3405",
   "metadata": {},
   "outputs": [],
   "source": []
  }
 ],
 "metadata": {
  "kernelspec": {
   "display_name": "Python 3 (ipykernel)",
   "language": "python",
   "name": "python3"
  },
  "language_info": {
   "codemirror_mode": {
    "name": "ipython",
    "version": 3
   },
   "file_extension": ".py",
   "mimetype": "text/x-python",
   "name": "python",
   "nbconvert_exporter": "python",
   "pygments_lexer": "ipython3",
   "version": "3.9.13"
  }
 },
 "nbformat": 4,
 "nbformat_minor": 5
}
