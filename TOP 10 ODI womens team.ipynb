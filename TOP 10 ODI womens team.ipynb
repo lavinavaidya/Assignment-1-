{
 "cells": [
  {
   "cell_type": "code",
   "execution_count": null,
   "id": "6b15a50d",
   "metadata": {},
   "outputs": [],
   "source": [
    "#install all requirements\n",
    "!pip install bs4\n",
    "!pip install requests\n",
    "from bs4 import BeautifulSoup\n",
    "import requests\n",
    "import pandas as pd"
   ]
  },
  {
   "cell_type": "code",
   "execution_count": null,
   "id": "e8b0b226",
   "metadata": {},
   "outputs": [],
   "source": [
    "#send request to webpage server to get sourse code\n",
    "page = requests.get('https://www.icc-cricket.com/rankings/womens/team-rankings/odi')\n",
    "soup = BeautifulSoup(page.content)"
   ]
  },
  {
   "cell_type": "code",
   "execution_count": null,
   "id": "56744b66",
   "metadata": {},
   "outputs": [],
   "source": [
    "# scraping first team\n",
    "first_team =soup.find('span', class_='u-hide-phablet')\n",
    "t1=first_team.text\n",
    "\n",
    "# scraping first match\n",
    "first_match =soup.find('td', class_='rankings-block__banner--matches')\n",
    "m1=first_match.text\n",
    "\n",
    "# scraping first points\n",
    "first_points =soup.find('td', class_='rankings-block__banner--points')\n",
    "p1=first_points.text\n",
    "\n",
    "# scraping first rating\n",
    "first_rating =soup.find('td', class_='rankings-block__banner--rating u-text-right')\n",
    "r1=first_rating.text.strip()"
   ]
  },
  {
   "cell_type": "code",
   "execution_count": null,
   "id": "82001e79",
   "metadata": {},
   "outputs": [],
   "source": [
    "# scraping multiple team\n",
    "team =[]   #empty list\n",
    "for i in soup.find_all('span', class_='u-hide-phablet'):\n",
    "    team.append(i.text)\n",
    "t=team[0:10]\n",
    "\n",
    "# scraping multiple matches\n",
    "name =[]  #empty list\n",
    "for i in soup.find_all('td', class_='table-body__cell u-center-text'):\n",
    "    name.append(i.text.strip())\n",
    "m2= name[0:24:2]\n",
    "m2.insert(0,m1)\n",
    "m=m2[0:10]\n",
    "\n",
    "# scraping multiple points\n",
    "p2=name[1:24:2]\n",
    "p2.insert(0,p1)\n",
    "p=p2[0:10]\n",
    "\n",
    "# scraping multiple rating\n",
    "rating =[]    #empty list\n",
    "for i in soup.find_all('td', class_='table-body__cell u-text-right rating'):\n",
    "    rating.append(i.text)\n",
    "r=rating[0:9]\n",
    "r.insert(0,r1)"
   ]
  },
  {
   "cell_type": "code",
   "execution_count": null,
   "id": "1be062ef",
   "metadata": {},
   "outputs": [],
   "source": [
    "# making dataframe\n",
    "df=pd.DataFrame({\"Name of team\":t,\"Matches\":m,\"Points\":p,\"Rating\":r})\n",
    "df"
   ]
  }
 ],
 "metadata": {
  "kernelspec": {
   "display_name": "Python 3 (ipykernel)",
   "language": "python",
   "name": "python3"
  },
  "language_info": {
   "codemirror_mode": {
    "name": "ipython",
    "version": 3
   },
   "file_extension": ".py",
   "mimetype": "text/x-python",
   "name": "python",
   "nbconvert_exporter": "python",
   "pygments_lexer": "ipython3",
   "version": "3.9.13"
  }
 },
 "nbformat": 4,
 "nbformat_minor": 5
}
